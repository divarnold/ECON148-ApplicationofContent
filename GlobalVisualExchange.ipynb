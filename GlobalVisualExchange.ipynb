{
 "cells": [
  {
   "cell_type": "code",
   "execution_count": 2,
   "metadata": {},
   "outputs": [
    {
     "name": "stderr",
     "output_type": "stream",
     "text": [
      "\n",
      "[notice] A new release of pip is available: 24.3.1 -> 25.0.1\n",
      "[notice] To update, run: python.exe -m pip install --upgrade pip\n"
     ]
    },
    {
     "name": "stdout",
     "output_type": "stream",
     "text": [
      "Collecting geopy\n",
      "  Downloading geopy-2.4.1-py3-none-any.whl.metadata (6.8 kB)\n",
      "Collecting geographiclib<3,>=1.52 (from geopy)\n",
      "  Downloading geographiclib-2.0-py3-none-any.whl.metadata (1.4 kB)\n",
      "Downloading geopy-2.4.1-py3-none-any.whl (125 kB)\n",
      "Downloading geographiclib-2.0-py3-none-any.whl (40 kB)\n",
      "Installing collected packages: geographiclib, geopy\n",
      "Successfully installed geographiclib-2.0 geopy-2.4.1\n",
      "Note: you may need to restart the kernel to use updated packages.\n",
      "Collecting pycountry\n",
      "  Downloading pycountry-24.6.1-py3-none-any.whl.metadata (12 kB)\n",
      "Downloading pycountry-24.6.1-py3-none-any.whl (6.3 MB)\n",
      "   ---------------------------------------- 0.0/6.3 MB ? eta -:--:--\n",
      "   ------------------- -------------------- 3.1/6.3 MB 17.1 MB/s eta 0:00:01\n",
      "   ---------------------------------------- 6.3/6.3 MB 17.0 MB/s eta 0:00:00\n",
      "Installing collected packages: pycountry\n",
      "Successfully installed pycountry-24.6.1\n",
      "Note: you may need to restart the kernel to use updated packages.\n"
     ]
    },
    {
     "name": "stderr",
     "output_type": "stream",
     "text": [
      "\n",
      "[notice] A new release of pip is available: 24.3.1 -> 25.0.1\n",
      "[notice] To update, run: python.exe -m pip install --upgrade pip\n"
     ]
    }
   ],
   "source": [
    "import numpy as np\n",
    "import pandas as pd\n",
    "\n",
    "try:\n",
    "    import matplotlib.pyplot as plt\n",
    "except: \n",
    "    %pip install matplotlib.pyplot\n",
    "    import matplotlib.pyplot as plt\n",
    "\n",
    "try:\n",
    "    import seaborn as sns\n",
    "except: \n",
    "    %pip install seaborn\n",
    "    import seaborn as sns\n",
    "\n",
    "try:\n",
    "    import plotly.express as px\n",
    "except: \n",
    "    %pip install plotly.express\n",
    "    import plotly.express as px\n",
    "\n",
    "try:\n",
    "    from IPython.display import display, Latex, Markdown\n",
    "except: \n",
    "    %pip install display\n",
    "    %pip install Latex\n",
    "    %pip install Markdown\n",
    "    from IPython.display import display, Latex, Markdown\n",
    "\n",
    "try:\n",
    "    import ipywidgets as widgets\n",
    "except: \n",
    "    %pip install ipywidgets\n",
    "    import ipywidgets as widgets\n",
    "\n",
    "try:\n",
    "    import geopandas\n",
    "except: \n",
    "    %pip install geopandas\n",
    "    import geopandas\n",
    "\n",
    "try: \n",
    "    from ipywidgets import interact, interactive, fixed, interact_manual\n",
    "except:\n",
    "    %pip install ipywidgets, interact, interactive, fixed, interact_manual\n",
    "    from ipywidgets import interact, interactive, fixed, interact_manual\n",
    "\n",
    "from ipywidgets import interact, interactive, fixed, interact_manual\n",
    "%matplotlib inline\n",
    "\n",
    "\n",
    "try:\n",
    "    import geopy\n",
    "except: \n",
    "    %pip install geopy\n",
    "    import geopy\n",
    "\n",
    "try:\n",
    "    import pycountry\n",
    "except: \n",
    "    %pip install pycountry\n",
    "    import pycountry\n",
    "\n",
    "try:\n",
    "    import re\n",
    "except:\n",
    "    %pip install re\n",
    "    import re\n",
    "\n"
   ]
  },
  {
   "cell_type": "code",
   "execution_count": 14,
   "metadata": {},
   "outputs": [
    {
     "data": {
      "text/html": [
       "<div>\n",
       "<style scoped>\n",
       "    .dataframe tbody tr th:only-of-type {\n",
       "        vertical-align: middle;\n",
       "    }\n",
       "\n",
       "    .dataframe tbody tr th {\n",
       "        vertical-align: top;\n",
       "    }\n",
       "\n",
       "    .dataframe thead th {\n",
       "        text-align: right;\n",
       "    }\n",
       "</style>\n",
       "<table border=\"1\" class=\"dataframe\">\n",
       "  <thead>\n",
       "    <tr style=\"text-align: right;\">\n",
       "      <th></th>\n",
       "      <th>Exchange Name</th>\n",
       "      <th>Country</th>\n",
       "      <th>Code</th>\n",
       "      <th>Latitude</th>\n",
       "      <th>Longitude</th>\n",
       "    </tr>\n",
       "  </thead>\n",
       "  <tbody>\n",
       "    <tr>\n",
       "      <th>0</th>\n",
       "      <td>US OTC</td>\n",
       "      <td>United States</td>\n",
       "      <td>OTC</td>\n",
       "      <td>38.9072° N</td>\n",
       "      <td>77.0369° W</td>\n",
       "    </tr>\n",
       "    <tr>\n",
       "      <th>1</th>\n",
       "      <td>Bombay Stock Exchange</td>\n",
       "      <td>India</td>\n",
       "      <td>BOM</td>\n",
       "      <td>18.9291° N</td>\n",
       "      <td>72.9959° E</td>\n",
       "    </tr>\n",
       "    <tr>\n",
       "      <th>2</th>\n",
       "      <td>Tokyo Stock Exchange</td>\n",
       "      <td>Japan</td>\n",
       "      <td>TYO</td>\n",
       "      <td>35.6824° N</td>\n",
       "      <td>139.7713° E</td>\n",
       "    </tr>\n",
       "    <tr>\n",
       "      <th>3</th>\n",
       "      <td>Nasdaq Stock Market</td>\n",
       "      <td>United States</td>\n",
       "      <td>NASDAQ</td>\n",
       "      <td>40.7570° N</td>\n",
       "      <td>73.9819° W</td>\n",
       "    </tr>\n",
       "    <tr>\n",
       "      <th>4</th>\n",
       "      <td>London Stock Exchange</td>\n",
       "      <td>United Kingdom</td>\n",
       "      <td>LON</td>\n",
       "      <td>51.5145° N</td>\n",
       "      <td>0.0922° W</td>\n",
       "    </tr>\n",
       "  </tbody>\n",
       "</table>\n",
       "</div>"
      ],
      "text/plain": [
       "           Exchange Name         Country    Code    Latitude    Longitude\n",
       "0                 US OTC   United States     OTC  38.9072° N   77.0369° W\n",
       "1  Bombay Stock Exchange           India     BOM  18.9291° N   72.9959° E\n",
       "2   Tokyo Stock Exchange           Japan     TYO  35.6824° N  139.7713° E\n",
       "3    Nasdaq Stock Market   United States  NASDAQ  40.7570° N   73.9819° W\n",
       "4  London Stock Exchange  United Kingdom     LON  51.5145° N    0.0922° W"
      ]
     },
     "execution_count": 14,
     "metadata": {},
     "output_type": "execute_result"
    }
   ],
   "source": [
    "stockData = pd.read_json(\"all_stock_exchanges_complete.json\").copy()\n",
    "stockData.head()\n",
    "exchangeCoordinatesData = pd.read_json(\"stock_exchanges_coordinates.json\").copy()\n",
    "exchangeCoordinatesData.head()"
   ]
  },
  {
   "cell_type": "code",
   "execution_count": null,
   "metadata": {},
   "outputs": [
    {
     "data": {
      "text/html": [
       "<div>\n",
       "<style scoped>\n",
       "    .dataframe tbody tr th:only-of-type {\n",
       "        vertical-align: middle;\n",
       "    }\n",
       "\n",
       "    .dataframe tbody tr th {\n",
       "        vertical-align: top;\n",
       "    }\n",
       "\n",
       "    .dataframe thead th {\n",
       "        text-align: right;\n",
       "    }\n",
       "</style>\n",
       "<table border=\"1\" class=\"dataframe\">\n",
       "  <thead>\n",
       "    <tr style=\"text-align: right;\">\n",
       "      <th></th>\n",
       "      <th>Exchange Name</th>\n",
       "      <th>Country</th>\n",
       "      <th>Code</th>\n",
       "      <th>Currency</th>\n",
       "      <th>Number of Stocks</th>\n",
       "      <th>Latitude</th>\n",
       "      <th>Longitude</th>\n",
       "    </tr>\n",
       "  </thead>\n",
       "  <tbody>\n",
       "    <tr>\n",
       "      <th>0</th>\n",
       "      <td>US OTC</td>\n",
       "      <td>United States</td>\n",
       "      <td>OTC</td>\n",
       "      <td>USD</td>\n",
       "      <td>7582</td>\n",
       "      <td>38.9072° N</td>\n",
       "      <td>77.0369° W</td>\n",
       "    </tr>\n",
       "    <tr>\n",
       "      <th>1</th>\n",
       "      <td>Bombay Stock Exchange</td>\n",
       "      <td>India</td>\n",
       "      <td>BOM</td>\n",
       "      <td>INR</td>\n",
       "      <td>4253</td>\n",
       "      <td>18.9291° N</td>\n",
       "      <td>72.9959° E</td>\n",
       "    </tr>\n",
       "    <tr>\n",
       "      <th>2</th>\n",
       "      <td>Tokyo Stock Exchange</td>\n",
       "      <td>Japan</td>\n",
       "      <td>TYO</td>\n",
       "      <td>JPY</td>\n",
       "      <td>3894</td>\n",
       "      <td>35.6824° N</td>\n",
       "      <td>139.7713° E</td>\n",
       "    </tr>\n",
       "    <tr>\n",
       "      <th>3</th>\n",
       "      <td>Nasdaq Stock Market</td>\n",
       "      <td>United States</td>\n",
       "      <td>NASDAQ</td>\n",
       "      <td>USD</td>\n",
       "      <td>3316</td>\n",
       "      <td>40.7570° N</td>\n",
       "      <td>73.9819° W</td>\n",
       "    </tr>\n",
       "    <tr>\n",
       "      <th>4</th>\n",
       "      <td>London Stock Exchange</td>\n",
       "      <td>United Kingdom</td>\n",
       "      <td>LON</td>\n",
       "      <td>GBP</td>\n",
       "      <td>3298</td>\n",
       "      <td>51.5145° N</td>\n",
       "      <td>0.0922° W</td>\n",
       "    </tr>\n",
       "  </tbody>\n",
       "</table>\n",
       "</div>"
      ],
      "text/plain": [
       "           Exchange Name         Country    Code Currency  Number of Stocks  \\\n",
       "0                 US OTC   United States     OTC      USD              7582   \n",
       "1  Bombay Stock Exchange           India     BOM      INR              4253   \n",
       "2   Tokyo Stock Exchange           Japan     TYO      JPY              3894   \n",
       "3    Nasdaq Stock Market   United States  NASDAQ      USD              3316   \n",
       "4  London Stock Exchange  United Kingdom     LON      GBP              3298   \n",
       "\n",
       "     Latitude    Longitude  \n",
       "0  38.9072° N   77.0369° W  \n",
       "1  18.9291° N   72.9959° E  \n",
       "2  35.6824° N  139.7713° E  \n",
       "3  40.7570° N   73.9819° W  \n",
       "4  51.5145° N    0.0922° W  "
      ]
     },
     "execution_count": 34,
     "metadata": {},
     "output_type": "execute_result"
    }
   ],
   "source": [
    "#Merge DataFrame stockData and exchangeCoordinatesData \n",
    "#Cleaned the DataFrame by renaming the columns and dropping the unnecessary columns\n",
    "mergedStockExchangeData = stockData.merge(exchangeCoordinatesData, on=\"Exchange Name\")\n",
    "mergedStockExchangeData.rename(columns={\"Country_x\" : \"Country\", \"Code_x\" : \"Code\"}, inplace=True)\n",
    "mergedStockExchangeData.drop(columns=[\"Country_y\", \"Code_y\"], inplace=True)\n",
    "mergedStockExchangeData.head()"
   ]
  },
  {
   "cell_type": "code",
   "execution_count": null,
   "metadata": {},
   "outputs": [
    {
     "data": {
      "text/plain": [
       "Exchange Name       0\n",
       "Country             0\n",
       "Code                0\n",
       "Currency            0\n",
       "Number of Stocks    0\n",
       "Latitude            0\n",
       "Longitude           0\n",
       "dtype: int64"
      ]
     },
     "execution_count": 46,
     "metadata": {},
     "output_type": "execute_result"
    }
   ],
   "source": [
    "# OPTIONAL FOR TESTING\n",
    "mergedStockExchangeData.isnull().sum()"
   ]
  },
  {
   "cell_type": "code",
   "execution_count": 53,
   "metadata": {},
   "outputs": [
    {
     "data": {
      "text/plain": [
       "Country\n",
       "Argentina           74\n",
       "Australia         1791\n",
       "Austria            127\n",
       "Bahrain             23\n",
       "Bangladesh         353\n",
       "                 ...  \n",
       "United States    13074\n",
       "Venezuela           18\n",
       "Vietnam            633\n",
       "Zambia              19\n",
       "Zimbabwe             5\n",
       "Name: Number of Stocks, Length: 90, dtype: int64"
      ]
     },
     "execution_count": 53,
     "metadata": {},
     "output_type": "execute_result"
    }
   ],
   "source": [
    "mergedStockExchangeData.groupby(\"Country\").sum()[\"Number of Stocks\"]\n"
   ]
  },
  {
   "cell_type": "code",
   "execution_count": null,
   "metadata": {},
   "outputs": [
    {
     "data": {
      "text/plain": [
       "array(['United States', 'India', 'Japan', 'United Kingdom', 'China'],\n",
       "      dtype=object)"
      ]
     },
     "execution_count": 56,
     "metadata": {},
     "output_type": "execute_result"
    }
   ],
   "source": [
    "mergedStockExchangeData['Country'].unique()"
   ]
  },
  {
   "cell_type": "code",
   "execution_count": null,
   "metadata": {},
   "outputs": [
    {
     "data": {
      "text/plain": [
       "<Axes: title={'center': 'Publicly Listed Stocks in each Country'}, xlabel='Country Name', ylabel='Number of Stocks'>"
      ]
     },
     "execution_count": 54,
     "metadata": {},
     "output_type": "execute_result"
    },
    {
     "data": {
      "image/png": "[encoded data removed]",
      "text/plain": [
       "<Figure size 640x480 with 1 Axes>"
      ]
     },
     "metadata": {},
     "output_type": "display_data"
    }
   ],
   "source": [
    "#Bar Graph of Number of Stocks per Exchange\n",
    "def barGraph():\n",
    "    counts = mergedStockExchangeData.groupby(\"Country\").sum()[\"Number of Stocks\"]\n",
    "    plt.bar(mergedStockExchangeData['Country'].unique(), counts, color = \"skyblue\", edgecolor = \"black\", width = 5)\n",
    "    plt.xlabel(\"Country Name\")\n",
    "    plt.ylabel(\"Number of Stocks\")\n",
    "    plt.title(\"Publicly Listed Stocks in each Country\")\n",
    "    return plt.gca()\n",
    "\n",
    "barGraph()\n",
    "#visualize it better....\n",
    "#Grab Top 10 Countries\n",
    "#Plot them all in one pi chart.\n",
    "\n"
   ]
  },
  {
   "cell_type": "code",
   "execution_count": 73,
   "metadata": {},
   "outputs": [
    {
     "data": {
      "text/plain": [
       "Country\n",
       "United States     13074\n",
       "India              6800\n",
       "China              5086\n",
       "United Kingdom     4022\n",
       "Japan              3991\n",
       "Canada             2779\n",
       "Hong Kong          2555\n",
       "South Korea        2548\n",
       "Taiwan             2149\n",
       "Australia          1791\n",
       "Name: Number of Stocks, dtype: int64"
      ]
     },
     "execution_count": 73,
     "metadata": {},
     "output_type": "execute_result"
    }
   ],
   "source": [
    "top10Countries[:]"
   ]
  },
  {
   "cell_type": "code",
   "execution_count": 83,
   "metadata": {},
   "outputs": [
    {
     "data": {
      "text/plain": [
       "<Axes: title={'center': 'Top 10 Countries With The Most Number of Publicly Listed Stocks'}, xlabel='Country Name', ylabel='Number of Stocks'>"
      ]
     },
     "execution_count": 83,
     "metadata": {},
     "output_type": "execute_result"
    },
    {
     "data": {
      "image/png": "[encoded data removed]",
      "text/plain": [
       "<Figure size 640x480 with 1 Axes>"
      ]
     },
     "metadata": {},
     "output_type": "display_data"
    }
   ],
   "source": [
    "#Top 10 Countries with the most number of stocks\n",
    "top10Countries = mergedStockExchangeData.groupby(\"Country\").sum()[\"Number of Stocks\"].sort_values(ascending=False).head(10)\n",
    "\n",
    "###\n",
    "def top10CountriesbarGraph():\n",
    "    counts = mergedStockExchangeData.groupby(\"Country\").sum()[\"Number of Stocks\"]\n",
    "    plt.bar(top10Countries.index, top10Countries, color = \"skyblue\", edgecolor = \"black\", width = .7)\n",
    "    plt.xlabel(\"Country Name\")\n",
    "    plt.ylabel(\"Number of Stocks\")\n",
    "    plt.title(\"Top 10 Countries With The Most Number of Publicly Listed Stocks\")\n",
    "    plt.xticks(rotation = 90)\n",
    "    return plt.gca()\n",
    "top10CountriesbarGraph()\n",
    "\n",
    "###Formatting issue -> how to not overlap words."
   ]
  },
  {
   "cell_type": "code",
   "execution_count": null,
   "metadata": {},
   "outputs": [],
   "source": []
  }
 ],
 "metadata": {
  "kernelspec": {
   "display_name": "Python 3",
   "language": "python",
   "name": "python3"
  },
  "language_info": {
   "codemirror_mode": {
    "name": "ipython",
    "version": 3
   },
   "file_extension": ".py",
   "mimetype": "text/x-python",
   "name": "python",
   "nbconvert_exporter": "python",
   "pygments_lexer": "ipython3",
   "version": "3.13.1"
  }
 },
 "nbformat": 4,
 "nbformat_minor": 2
}
