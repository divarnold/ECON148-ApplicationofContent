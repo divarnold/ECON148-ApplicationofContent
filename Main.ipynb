{
 "cells": [
  {
   "cell_type": "code",
   "execution_count": 3,
   "metadata": {},
   "outputs": [],
   "source": [
    "try:\n",
    "    import yfinance as yf\n",
    "except: \n",
    "    %pip install yfinance\n",
    "    import yfinance as yf "
   ]
  },
  {
   "cell_type": "code",
   "execution_count": 5,
   "metadata": {},
   "outputs": [
    {
     "name": "stdout",
     "output_type": "stream",
     "text": [
      "Collecting mplchart\n",
      "  Downloading mplchart-0.0.22-py3-none-any.whl.metadata (7.5 kB)\n",
      "Collecting matplotlib (from mplchart)\n",
      "  Downloading matplotlib-3.10.1-cp313-cp313-win_amd64.whl.metadata (11 kB)\n",
      "Requirement already satisfied: numpy in c:\\users\\sense\\appdata\\local\\programs\\python\\python313\\lib\\site-packages (from mplchart) (2.2.3)\n",
      "Requirement already satisfied: pandas in c:\\users\\sense\\appdata\\local\\programs\\python\\python313\\lib\\site-packages (from mplchart) (2.2.3)\n",
      "Collecting contourpy>=1.0.1 (from matplotlib->mplchart)\n",
      "  Downloading contourpy-1.3.1-cp313-cp313-win_amd64.whl.metadata (5.4 kB)\n",
      "Collecting cycler>=0.10 (from matplotlib->mplchart)\n",
      "  Downloading cycler-0.12.1-py3-none-any.whl.metadata (3.8 kB)\n",
      "Collecting fonttools>=4.22.0 (from matplotlib->mplchart)\n",
      "  Downloading fonttools-4.56.0-cp313-cp313-win_amd64.whl.metadata (103 kB)\n",
      "Collecting kiwisolver>=1.3.1 (from matplotlib->mplchart)\n",
      "  Downloading kiwisolver-1.4.8-cp313-cp313-win_amd64.whl.metadata (6.3 kB)\n",
      "Requirement already satisfied: packaging>=20.0 in c:\\users\\sense\\appdata\\roaming\\python\\python313\\site-packages (from matplotlib->mplchart) (24.2)\n",
      "Collecting pillow>=8 (from matplotlib->mplchart)\n",
      "  Downloading pillow-11.1.0-cp313-cp313-win_amd64.whl.metadata (9.3 kB)\n",
      "Collecting pyparsing>=2.3.1 (from matplotlib->mplchart)\n",
      "  Downloading pyparsing-3.2.1-py3-none-any.whl.metadata (5.0 kB)\n",
      "Requirement already satisfied: python-dateutil>=2.7 in c:\\users\\sense\\appdata\\roaming\\python\\python313\\site-packages (from matplotlib->mplchart) (2.9.0.post0)\n",
      "Requirement already satisfied: pytz>=2020.1 in c:\\users\\sense\\appdata\\local\\programs\\python\\python313\\lib\\site-packages (from pandas->mplchart) (2025.1)\n",
      "Requirement already satisfied: tzdata>=2022.7 in c:\\users\\sense\\appdata\\local\\programs\\python\\python313\\lib\\site-packages (from pandas->mplchart) (2025.1)\n",
      "Requirement already satisfied: six>=1.5 in c:\\users\\sense\\appdata\\roaming\\python\\python313\\site-packages (from python-dateutil>=2.7->matplotlib->mplchart) (1.17.0)\n",
      "Downloading mplchart-0.0.22-py3-none-any.whl (565 kB)\n",
      "   ---------------------------------------- 0.0/565.2 kB ? eta -:--:--\n",
      "   ---------------------------------------- 565.2/565.2 kB 5.0 MB/s eta 0:00:00\n",
      "Downloading matplotlib-3.10.1-cp313-cp313-win_amd64.whl (8.1 MB)\n",
      "   ---------------------------------------- 0.0/8.1 MB ? eta -:--:--\n",
      "   ------- -------------------------------- 1.6/8.1 MB 9.5 MB/s eta 0:00:01\n",
      "   ------------------- -------------------- 3.9/8.1 MB 10.0 MB/s eta 0:00:01\n",
      "   -------------------------- ------------- 5.2/8.1 MB 10.0 MB/s eta 0:00:01\n",
      "   --------------------------- ------------ 5.5/8.1 MB 7.8 MB/s eta 0:00:01\n",
      "   ---------------------------- ----------- 5.8/8.1 MB 6.9 MB/s eta 0:00:01\n",
      "   ------------------------------------ --- 7.3/8.1 MB 5.9 MB/s eta 0:00:01\n",
      "   ---------------------------------------- 8.1/8.1 MB 5.8 MB/s eta 0:00:00\n",
      "Downloading contourpy-1.3.1-cp313-cp313-win_amd64.whl (220 kB)\n",
      "Downloading cycler-0.12.1-py3-none-any.whl (8.3 kB)\n",
      "Downloading fonttools-4.56.0-cp313-cp313-win_amd64.whl (2.2 MB)\n",
      "   ---------------------------------------- 0.0/2.2 MB ? eta -:--:--\n",
      "   ---------------------------- ----------- 1.6/2.2 MB 8.3 MB/s eta 0:00:01\n",
      "   ---------------------------------------- 2.2/2.2 MB 6.5 MB/s eta 0:00:00\n",
      "Downloading kiwisolver-1.4.8-cp313-cp313-win_amd64.whl (71 kB)\n",
      "Downloading pillow-11.1.0-cp313-cp313-win_amd64.whl (2.6 MB)\n",
      "   ---------------------------------------- 0.0/2.6 MB ? eta -:--:--\n",
      "   ----------------------- ---------------- 1.6/2.6 MB 8.2 MB/s eta 0:00:01\n",
      "   ---------------------------------------- 2.6/2.6 MB 7.5 MB/s eta 0:00:00\n",
      "Downloading pyparsing-3.2.1-py3-none-any.whl (107 kB)\n",
      "Installing collected packages: pyparsing, pillow, kiwisolver, fonttools, cycler, contourpy, matplotlib, mplchart\n",
      "Successfully installed contourpy-1.3.1 cycler-0.12.1 fonttools-4.56.0 kiwisolver-1.4.8 matplotlib-3.10.1 mplchart-0.0.22 pillow-11.1.0 pyparsing-3.2.1\n",
      "Note: you may need to restart the kernel to use updated packages.\n"
     ]
    },
    {
     "name": "stderr",
     "output_type": "stream",
     "text": [
      "  WARNING: The scripts fonttools.exe, pyftmerge.exe, pyftsubset.exe and ttx.exe are installed in 'c:\\Users\\sense\\AppData\\Local\\Programs\\Python\\Python313\\Scripts' which is not on PATH.\n",
      "  Consider adding this directory to PATH or, if you prefer to suppress this warning, use --no-warn-script-location.\n",
      "\n",
      "[notice] A new release of pip is available: 24.3.1 -> 25.0.1\n",
      "[notice] To update, run: python.exe -m pip install --upgrade pip\n"
     ]
    }
   ],
   "source": [
    "try:\n",
    "    from mplchart.chart import Chart\n",
    "except: \n",
    "    %pip install mplchart\n"
   ]
  },
  {
   "cell_type": "code",
   "execution_count": null,
   "metadata": {},
   "outputs": [],
   "source": [
    "#List of Stock Exchanges Globally\n",
    "{\n",
    "  \"New York Stock Exchange (NYSE)\": \"Longitude: -74.0113, Latitude: 40.7069\",\n",
    "  \"NASDAQ (MarketSite in Times Square)\": \"Longitude: -73.9855, Latitude: 40.7570\",\n",
    "  \"London Stock Exchange (LSE)\": \"Longitude: -0.0983, Latitude: 51.5155\",\n",
    "  \"Tokyo Stock Exchange (TSE)\": \"Longitude: 139.7748, Latitude: 35.6828\",\n",
    "  \"Shanghai Stock Exchange (SSE)\": \"Longitude: 121.5010, Latitude: 31.2382\",\n",
    "  \"Hong Kong Stock Exchange (HKEX)\": \"Longitude: 114.1583, Latitude: 22.2818\",\n",
    "  \"Shenzhen Stock Exchange (SZSE)\": \"Longitude: 114.0573, Latitude: 22.5264\",\n",
    "  \"Euronext (Amsterdam HQ)\": \"Longitude: 4.8932, Latitude: 52.3740\",\n",
    "  \"Deutsche Börse (Frankfurt Stock Exchange)\": \"Longitude: 8.6782, Latitude: 50.1145\",\n",
    "  \"SIX Swiss Exchange (Zurich)\": \"Longitude: 8.5154, Latitude: 47.3934\",\n",
    "  \"B3 (formerly BM&F Bovespa, São Paulo)\": \"Longitude: -46.6361, Latitude: -23.5475\",\n",
    "  \"Bombay Stock Exchange (BSE, Mumbai)\": \"Longitude: 72.8312, Latitude: 18.9300\",\n",
    "  \"National Stock Exchange of India (NSE, Mumbai)\": \"Longitude: 72.8679, Latitude: 19.0668\",\n",
    "  \"Australian Securities Exchange (ASX, Sydney)\": \"Longitude: 151.2079, Latitude: -33.8640\",\n",
    "  \"Toronto Stock Exchange (TSX)\": \"Longitude: -79.3810, Latitude: 43.6483\",\n",
    "  \"Johannesburg Stock Exchange (JSE)\": \"Longitude: 28.0530, Latitude: -26.1060\",\n",
    "  \"Moscow Exchange (MOEX)\": \"Longitude: 37.6184, Latitude: 55.7557\",\n",
    "  \"Korea Exchange (KRX, Busan HQ)\": \"Longitude: 129.0590, Latitude: 35.1290\",\n",
    "  \"Taiwan Stock Exchange (TWSE, Taipei)\": \"Longitude: 121.5645, Latitude: 25.0336\",\n",
    "  \"Bursa Malaysia (Kuala Lumpur)\": \"Longitude: 101.6865, Latitude: 3.1412\",\n",
    "  \"Indonesia Stock Exchange (IDX, Jakarta)\": \"Longitude: 106.8090, Latitude: -6.2277\",\n",
    "  \"Stock Exchange of Thailand (SET, Bangkok)\": \"Longitude: 100.5680, Latitude: 13.7613\",\n",
    "  \"Philippine Stock Exchange (PSE, Manila)\": \"Longitude: 121.0453, Latitude: 14.5539\",\n",
    "  \"Singapore Exchange (SGX)\": \"Longitude: 103.8500, Latitude: 1.2800\",\n",
    "  \"Saudi Stock Exchange (Tadawul, Riyadh)\": \"Longitude: 46.6753, Latitude: 24.7136\",\n",
    "  \"Tel Aviv Stock Exchange (TASE)\": \"Longitude: 34.7725, Latitude: 32.0623\",\n",
    "  \"Warsaw Stock Exchange (GPW)\": \"Longitude: 21.0262, Latitude: 52.2312\",\n",
    "  \"Vienna Stock Exchange (Wiener Börse)\": \"Longitude: 16.3695, Latitude: 48.2105\",\n",
    "  \"Oslo Stock Exchange (Oslo Børs)\": \"Longitude: 10.7467, Latitude: 59.9080\",\n",
    "  \"Nasdaq Nordic (Stockholm Stock Exchange)\": \"Longitude: 18.0674, Latitude: 59.3289\"\n",
    "}"
   ]
  },
  {
   "cell_type": "code",
   "execution_count": null,
   "metadata": {},
   "outputs": [],
   "source": [
    "import pandas as pd"
   ]
  },
  {
   "cell_type": "markdown",
   "metadata": {},
   "source": [
    "Goal of this Project:\n",
    "List all publicly listed securities globally, plot each one to it's respective region then plot on a visual global map.\n",
    "\n",
    "Grab all listed securities on yahoo Finance, identify where they are globally, assign location, then use widgets app to provide visual overlay.\n",
    "\n",
    "Practicing:\n",
    "- Data Cleaning\n",
    "- API usage\n",
    "- Data manipulation (i.e., merging)\n",
    "\n",
    "Market-cap weighted visual of all the data.\n",
    "APIs:\n",
    "- YFinance by \n",
    "- (optional) FRED Data API\n",
    "- Widgets (global map)\n"
   ]
  }
 ],
 "metadata": {
  "kernelspec": {
   "display_name": "Python 3",
   "language": "python",
   "name": "python3"
  },
  "language_info": {
   "codemirror_mode": {
    "name": "ipython",
    "version": 3
   },
   "file_extension": ".py",
   "mimetype": "text/x-python",
   "name": "python",
   "nbconvert_exporter": "python",
   "pygments_lexer": "ipython3",
   "version": "3.13.1"
  }
 },
 "nbformat": 4,
 "nbformat_minor": 2
}
